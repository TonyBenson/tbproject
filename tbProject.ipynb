{
 "cells": [
  {
   "cell_type": "markdown",
   "metadata": {},
   "source": [
    "Pulling data from 12 csv files"
   ]
  },
  {
   "cell_type": "code",
   "execution_count": null,
   "metadata": {
    "collapsed": true
   },
   "outputs": [],
   "source": [
    "import pandas as pd\n",
    "import numpy as np\n",
    "rawjan17 = pd.read_csv(\"C:/Users/Tony/Desktop/tbProject/1701.csv\")\n",
    "rawfeb17 = pd.read_csv(\"C:/Users/Tony/Desktop/tbProject/1702.csv\")\n",
    "rawmar17 = pd.read_csv(\"C:/Users/Tony/Desktop/tbProject/1703.csv\")\n",
    "rawapr17 = pd.read_csv(\"C:/Users/Tony/Desktop/tbProject/1704.csv\")\n",
    "rawmay17 = pd.read_csv(\"C:/Users/Tony/Desktop/tbProject/1705.csv\")\n",
    "rawjun17 = pd.read_csv(\"C:/Users/Tony/Desktop/tbProject/1706.csv\")\n",
    "rawjul17 = pd.read_csv(\"C:/Users/Tony/Desktop/tbProject/1707.csv\")\n",
    "rawaug17 = pd.read_csv(\"C:/Users/Tony/Desktop/tbProject/1708.csv\")\n",
    "rawsep17 = pd.read_csv(\"C:/Users/Tony/Desktop/tbProject/1709.csv\")\n",
    "rawoct17 = pd.read_csv(\"C:/Users/Tony/Desktop/tbProject/1710.csv\")\n",
    "rawnov17 = pd.read_csv(\"C:/Users/Tony/Desktop/tbProject/1711.csv\")\n",
    "rawdec17 = pd.read_csv(\"C:/Users/Tony/Desktop/tbProject/1712.csv\")\n",
    "import matplotlib.pyplot as plt"
   ]
  },
  {
   "cell_type": "markdown",
   "metadata": {},
   "source": [
    "Create only columns we want to see"
   ]
  },
  {
   "cell_type": "code",
   "execution_count": null,
   "metadata": {
    "collapsed": true
   },
   "outputs": [],
   "source": [
    "features = ['Symbol', 'Call', 'Put']"
   ]
  },
  {
   "cell_type": "code",
   "execution_count": null,
   "metadata": {
    "collapsed": true
   },
   "outputs": [],
   "source": [
    "jan17 = rawjan17[features]\n",
    "feb17 = rawfeb17[features]\n",
    "mar17 = rawmar17[features]\n",
    "apr17 = rawapr17[features]\n",
    "may17 = rawmay17[features]\n",
    "jun17 = rawjun17[features]\n",
    "jul17 = rawjul17[features]\n",
    "aug17 = rawaug17[features]\n",
    "sep17 = rawsep17[features]\n",
    "oct17 = rawoct17[features]\n",
    "nov17 = rawnov17[features]\n",
    "dec17 = rawdec17[features]"
   ]
  },
  {
   "cell_type": "markdown",
   "metadata": {},
   "source": [
    "Removing all rows with null values"
   ]
  },
  {
   "cell_type": "code",
   "execution_count": null,
   "metadata": {},
   "outputs": [],
   "source": [
    "jan17.dropna(axis=0, how='all', inplace=True)\n",
    "feb17.dropna(axis=0, how='all', inplace=True)\n",
    "mar17.dropna(axis=0, how='all', inplace=True)\n",
    "apr17.dropna(axis=0, how='all', inplace=True)\n",
    "may17.dropna(axis=0, how='all', inplace=True)\n",
    "jun17.dropna(axis=0, how='all', inplace=True)\n",
    "jul17.dropna(axis=0, how='all', inplace=True)\n",
    "aug17.dropna(axis=0, how='all', inplace=True)\n",
    "sep17.dropna(axis=0, how='all', inplace=True)\n",
    "oct17.dropna(axis=0, how='all', inplace=True)\n",
    "dec17.dropna(axis=0, how='all', inplace=True)"
   ]
  },
  {
   "cell_type": "markdown",
   "metadata": {},
   "source": [
    "Removing commas and converted string to integers"
   ]
  },
  {
   "cell_type": "code",
   "execution_count": null,
   "metadata": {},
   "outputs": [],
   "source": [
    "jan17['Call'] = jan17['Call'].str.replace(',','').astype(int)\n",
    "feb17['Call'] = feb17['Call'].str.replace(',','').astype(int)\n",
    "mar17['Call'] = mar17['Call'].str.replace(',','').astype(int)\n",
    "apr17['Call'] = apr17['Call'].str.replace(',','').astype(int)\n",
    "may17['Call'] = may17['Call'].str.replace(',','').astype(int)\n",
    "jun17['Call'] = jun17['Call'].str.replace(',','').astype(int)\n",
    "jul17['Call'] = jul17['Call'].str.replace(',','').astype(int)\n",
    "aug17['Call'] = aug17['Call'].str.replace(',','').astype(int)\n",
    "sep17['Call'] = sep17['Call'].str.replace(',','').astype(int)\n",
    "oct17['Call'] = oct17['Call'].str.replace(',','').astype(int)\n",
    "nov17['Call'] = nov17['Call'].str.replace(',','').astype(int)\n",
    "dec17['Call'] = dec17['Call'].str.replace(',','').astype(int)"
   ]
  },
  {
   "cell_type": "code",
   "execution_count": null,
   "metadata": {},
   "outputs": [],
   "source": [
    "jan17['Put'] = jan17['Put'].str.replace(',','').astype(int)\n",
    "feb17['Put'] = feb17['Put'].str.replace(',','').astype(int)\n",
    "mar17['Put'] = mar17['Put'].str.replace(',','').astype(int)\n",
    "apr17['Put'] = apr17['Put'].str.replace(',','').astype(int)\n",
    "may17['Put'] = may17['Put'].str.replace(',','').astype(int)\n",
    "jun17['Put'] = jun17['Put'].str.replace(',','').astype(int)\n",
    "jul17['Put'] = jul17['Put'].str.replace(',','').astype(int)\n",
    "aug17['Put'] = aug17['Put'].str.replace(',','').astype(int)\n",
    "sep17['Put'] = sep17['Put'].str.replace(',','').astype(int)\n",
    "oct17['Put'] = oct17['Put'].str.replace(',','').astype(int)\n",
    "nov17['Put'] = nov17['Put'].str.replace(',','').astype(int)\n",
    "dec17['Put'] = dec17['Put'].str.replace(',','').astype(int)"
   ]
  },
  {
   "cell_type": "code",
   "execution_count": null,
   "metadata": {},
   "outputs": [],
   "source": [
    "jan17['Jan'] = 1\n",
    "feb17['Feb'] = 1\n",
    "mar17['Mar'] = 1\n",
    "apr17['Apr'] = 1\n",
    "may17['May'] = 1\n",
    "jun17['Jun'] = 1\n",
    "jul17['Jul'] = 1\n",
    "aug17['Aug'] = 1\n",
    "sep17['Sep'] = 1\n",
    "oct17['Oct'] = 1\n",
    "nov17['Nov'] = 1\n",
    "dec17['Dec'] = 1"
   ]
  },
  {
   "cell_type": "markdown",
   "metadata": {},
   "source": [
    "Renaming columns"
   ]
  },
  {
   "cell_type": "markdown",
   "metadata": {},
   "source": [
    "jan17.rename(inplace=True, columns={\"Call\": \"janC\", \"Put\": \"janP\"})\n",
    "feb17.rename(inplace=True, columns={\"Call\": \"febC\", \"Put\": \"febP\"})\n",
    "mar17.rename(inplace=True, columns={\"Call\": \"marC\", \"Put\": \"marP\"})\n",
    "apr17.rename(inplace=True, columns={\"Call\": \"aprC\", \"Put\": \"aprP\"})\n",
    "may17.rename(inplace=True, columns={\"Call\": \"mayC\", \"Put\": \"mayP\"})\n",
    "jun17.rename(inplace=True, columns={\"Call\": \"junC\", \"Put\": \"junP\"})\n",
    "jul17.rename(inplace=True, columns={\"Call\": \"julC\", \"Put\": \"julP\"})\n",
    "aug17.rename(inplace=True, columns={\"Call\": \"augC\", \"Put\": \"augP\"})\n",
    "sep17.rename(inplace=True, columns={\"Call\": \"sepC\", \"Put\": \"sepP\"})\n",
    "oct17.rename(inplace=True, columns={\"Call\": \"octC\", \"Put\": \"octP\"})\n",
    "nov17.rename(inplace=True, columns={\"Call\": \"novC\", \"Put\": \"novP\"})\n",
    "dec17.rename(inplace=True, columns={\"Call\": \"decC\", \"Put\": \"decP\"})"
   ]
  },
  {
   "cell_type": "markdown",
   "metadata": {},
   "source": [
    "Merged all 12 files using Symbol column"
   ]
  },
  {
   "cell_type": "code",
   "execution_count": null,
   "metadata": {
    "collapsed": true
   },
   "outputs": [],
   "source": [
    "df_final = pd.concat([jan17, feb17, mar17, apr17, may17, jun17, jul17, aug17, sep17, oct17, nov17, dec17])"
   ]
  },
  {
   "cell_type": "code",
   "execution_count": null,
   "metadata": {},
   "outputs": [],
   "source": [
    "df_final.head()"
   ]
  },
  {
   "cell_type": "code",
   "execution_count": null,
   "metadata": {},
   "outputs": [],
   "source": [
    "df_final.dtypes"
   ]
  },
  {
   "cell_type": "markdown",
   "metadata": {
    "collapsed": true
   },
   "source": [
    "df_final = jan17\n",
    "df_final = df_final.append(feb17)\n",
    "df_final = df_final.append(mar17)\n",
    "df_final = df_final.append(apr17)\n",
    "df_final = df_final.append(may17)\n",
    "df_final = df_final.append(jun17)\n",
    "df_final = df_final.append(jul17)\n",
    "df_final = df_final.append(aug17)\n",
    "df_final = df_final.append(sep17)\n",
    "df_final = df_final.append(oct17)\n",
    "df_final = df_final.append(nov17)\n",
    "df_final = df_final.append(dec17)"
   ]
  },
  {
   "cell_type": "markdown",
   "metadata": {},
   "source": [
    "df_final = reduce(lambda left,right: pd.merge(left,right,on='Symbol'), dfs)"
   ]
  },
  {
   "cell_type": "markdown",
   "metadata": {},
   "source": [
    "Confirming now null values"
   ]
  },
  {
   "cell_type": "code",
   "execution_count": null,
   "metadata": {
    "collapsed": true
   },
   "outputs": [],
   "source": [
    "df_final = df_final[(df_final['Call'] > 100000) & (df_final['Put'] > 100000)]"
   ]
  },
  {
   "cell_type": "code",
   "execution_count": null,
   "metadata": {
    "collapsed": true
   },
   "outputs": [],
   "source": [
    "df_final = df_final.reset_index(drop=True)"
   ]
  },
  {
   "cell_type": "code",
   "execution_count": null,
   "metadata": {
    "collapsed": true
   },
   "outputs": [],
   "source": [
    "df_final = df_final.fillna(0)"
   ]
  },
  {
   "cell_type": "code",
   "execution_count": null,
   "metadata": {},
   "outputs": [],
   "source": [
    "df_final.shape"
   ]
  },
  {
   "cell_type": "code",
   "execution_count": null,
   "metadata": {
    "collapsed": true
   },
   "outputs": [],
   "source": [
    "df_final['PC Ratio'] = df_final['Put'] / df_final['Call']"
   ]
  },
  {
   "cell_type": "code",
   "execution_count": null,
   "metadata": {
    "collapsed": true
   },
   "outputs": [],
   "source": [
    "import quandl\n",
    "import datetime as date\n",
    " \n",
    "quandl.ApiConfig.api_key = '6NdvS3eJ_TSyJ7neEJmU'\n",
    " \n",
    "def quandl_stocks(symbol, givendate):\n",
    "    \n",
    "    query_list = ['WIKI' + '/' + symbol + '.' + str(k) for k in range(4, 5)]\n",
    "    column_name = 'WIKI' + '/' + symbol + ' - Close'\n",
    " \n",
    "    start_date = date.datetime.strptime(givendate,'%m/%d/%Y')\n",
    " \n",
    "    end_date = start_date\n",
    "    try:\n",
    "        return quandl.get(query_list, \n",
    "            returns='pandas', \n",
    "            start_date=start_date,\n",
    "            end_date=end_date,\n",
    "            collapse='daily',\n",
    "            order='asc'\n",
    "            )[column_name][0]\n",
    "    except:\n",
    "        return np.nan"
   ]
  },
  {
   "cell_type": "code",
   "execution_count": null,
   "metadata": {
    "collapsed": true
   },
   "outputs": [],
   "source": [
    "ExDate = {'Jan' : '1/20/2017',\n",
    "      'Feb' : '2/17/2017',\n",
    "      'Mar' : '3/17/2017',\n",
    "      'Apr' : '4/21/2017',\n",
    "      'May' : '5/19/2017',\n",
    "      'Jun' : '6/16/2017',\n",
    "      'Jul' : '7/21/2017',\n",
    "      'Aug' : '8/18/2017',\n",
    "      'Sep' : '9/15/2017',\n",
    "      'Oct' : '10/20/2017',\n",
    "      'Nov' : '11/17/2017',\n",
    "      'Dec' : '12/15/2017',}"
   ]
  },
  {
   "cell_type": "code",
   "execution_count": null,
   "metadata": {
    "collapsed": true
   },
   "outputs": [],
   "source": [
    "df_final['Close'] = np.nan"
   ]
  },
  {
   "cell_type": "code",
   "execution_count": null,
   "metadata": {},
   "outputs": [],
   "source": [
    "max_range = range(df_final['Symbol'].count())\n",
    "for i in max_range:\n",
    "    name = df_final.columns[(df_final==1.0).iloc[i]]\n",
    "    df_final['Close'][i] = quandl_stocks(df_final['Symbol'][i],ExDate[name[0]])"
   ]
  },
  {
   "cell_type": "code",
   "execution_count": null,
   "metadata": {},
   "outputs": [],
   "source": [
    "df_final.head()"
   ]
  },
  {
   "cell_type": "code",
   "execution_count": null,
   "metadata": {
    "collapsed": true
   },
   "outputs": [],
   "source": [
    "df_final = df_final[['Symbol', 'Jan', 'Feb', 'Mar', 'Apr', 'May', 'Jun', 'Jul', 'Aug', 'Sep', 'Oct', 'Nov', 'Dec', 'PC Ratio', 'Close']]"
   ]
  },
  {
   "cell_type": "code",
   "execution_count": null,
   "metadata": {},
   "outputs": [],
   "source": [
    "df_final.head()"
   ]
  },
  {
   "cell_type": "code",
   "execution_count": null,
   "metadata": {},
   "outputs": [],
   "source": [
    "df_final.shape"
   ]
  },
  {
   "cell_type": "markdown",
   "metadata": {},
   "source": [
    "max_range = range(df_final['Symbol'].count())\n",
    "for i in max_range:\n",
    "    symbol = df_final.columns[(df_final==1.0).iloc[i]]"
   ]
  },
  {
   "cell_type": "code",
   "execution_count": null,
   "metadata": {},
   "outputs": [],
   "source": [
    "df_final.sort_values(by=['Symbol'])"
   ]
  },
  {
   "cell_type": "code",
   "execution_count": null,
   "metadata": {},
   "outputs": [],
   "source": [
    "\n",
    "\n",
    "df_final.sort_values(by=['Jan', 'Feb', 'Mar', 'Apr', 'May', 'Jun', 'Jul', 'Aug', 'Sep', 'Oct', 'Nov', 'Dec'])"
   ]
  },
  {
   "cell_type": "code",
   "execution_count": null,
   "metadata": {
    "collapsed": true
   },
   "outputs": [],
   "source": []
  }
 ],
 "metadata": {
  "kernelspec": {
   "display_name": "Python 2",
   "language": "python",
   "name": "python2"
  },
  "language_info": {
   "codemirror_mode": {
    "name": "ipython",
    "version": 2
   },
   "file_extension": ".py",
   "mimetype": "text/x-python",
   "name": "python",
   "nbconvert_exporter": "python",
   "pygments_lexer": "ipython2",
   "version": "2.7.14"
  }
 },
 "nbformat": 4,
 "nbformat_minor": 2
}
